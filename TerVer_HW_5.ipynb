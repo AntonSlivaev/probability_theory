{
 "cells": [
  {
   "cell_type": "markdown",
   "metadata": {},
   "source": [
    "__Задача 2__\n",
    "\n",
    "Продавец утверждает, что средний вес пачки печенья составляет 200 г. Из партии извлечена выборка из 10 пачек. Вес каждой пачки составляет:\n",
    "```\n",
    "202, 203, 199, 197, 195, 201, 200, 204, 194, 190\n",
    "```\n",
    "Известно, что их веса распределены нормально. \n",
    "1. Верно ли утверждение продавца, если учитывать, что уровень значимости равен 1%? \n",
    "2. Найдите P-значение для данного теста."
   ]
  },
  {
   "cell_type": "markdown",
   "metadata": {},
   "source": [
    "Нулевая гипотеза $H_0$, говорит о том, что мат ожидание $\\mu$ равно 200"
   ]
  },
  {
   "cell_type": "markdown",
   "metadata": {},
   "source": [
    "Для решения задачи используем $t$ статистику(Стьюдента):\n",
    "\n",
    "$$t = \\dfrac{\\overline{X} - \\mu}{\\sigma_X / \\sqrt{n}},$$"
   ]
  },
  {
   "cell_type": "markdown",
   "metadata": {},
   "source": [
    "При верности $H_0$,эта статистика имеет распределение с параметром $df = n -1 $ "
   ]
  },
  {
   "cell_type": "code",
   "execution_count": 1,
   "metadata": {},
   "outputs": [],
   "source": [
    "import numpy as np\n",
    "from scipy import stats"
   ]
  },
  {
   "cell_type": "code",
   "execution_count": 2,
   "metadata": {},
   "outputs": [
    {
     "name": "stdout",
     "output_type": "stream",
     "text": [
      "10 198.5 4.453463071962462\n"
     ]
    }
   ],
   "source": [
    "samples = np.array ([202, 203, 199, 197, 195, 201, 200, 204, 194, 190])\n",
    "\n",
    "n = samples.size\n",
    "mean = samples.mean()\n",
    "std = samples.std(ddof = 1)\n",
    "\n",
    "print(n, mean, std)"
   ]
  },
  {
   "cell_type": "markdown",
   "metadata": {},
   "source": [
    "Уровень значимости $\\alpha$ равен 0.01, находим квантили:"
   ]
  },
  {
   "cell_type": "code",
   "execution_count": 3,
   "metadata": {},
   "outputs": [
    {
     "name": "stdout",
     "output_type": "stream",
     "text": [
      "-3.24983554401537 3.2498355440153697\n"
     ]
    }
   ],
   "source": [
    "alpha = 0.01 \n",
    "\n",
    "t1 = stats.t.ppf(alpha / 2, df = n - 1)\n",
    "t2 = stats.t.ppf(1 - alpha / 2, df = n - 1)\n",
    "\n",
    "print(t1, t2)"
   ]
  },
  {
   "cell_type": "markdown",
   "metadata": {},
   "source": [
    "Полученная критическая область:\n",
    "\n",
    "$$\\Omega_\\alpha = (-\\infty, -3.25) \\cup (3.25, \\infty)$$"
   ]
  },
  {
   "cell_type": "markdown",
   "metadata": {},
   "source": [
    "Теперь можно посчитать значение статистики $t$ и сделать заключение:"
   ]
  },
  {
   "cell_type": "code",
   "execution_count": 4,
   "metadata": {},
   "outputs": [
    {
     "name": "stdout",
     "output_type": "stream",
     "text": [
      "-1.0651074037450896\n"
     ]
    }
   ],
   "source": [
    "t = (mean - 200) / (std / np.sqrt(n))\n",
    "print(t)"
   ]
  },
  {
   "cell_type": "markdown",
   "metadata": {},
   "source": [
    "Значение $t$ статистики не попало в критическую область, следовательно, данные не противоречат гипотезе $H_0$."
   ]
  },
  {
   "cell_type": "markdown",
   "metadata": {},
   "source": [
    "Теперь найдем P-значение для двухсторонней области:\n",
    "\n",
    "$$P = 2 \\cdot \\min (P_l, P_r)$$\n",
    "\n",
    "$P_l = F_t(t), P_r = F_t(t), F_t(x)$ - функция распределения нашей статистики. В нашем примере это t-распределение:"
   ]
  },
  {
   "cell_type": "code",
   "execution_count": 5,
   "metadata": {},
   "outputs": [
    {
     "name": "stdout",
     "output_type": "stream",
     "text": [
      "0.15728330176236427 0.8427166982376357 0.31456660352472854\n"
     ]
    }
   ],
   "source": [
    "p_left = stats.t.cdf(t, df = n - 1)\n",
    "p_right = 1 - stats.t.cdf(t, df = n -1 )\n",
    "\n",
    "pvalue = 2 * min (p_left, p_right)\n",
    "\n",
    "print(p_left, p_right, pvalue)"
   ]
  },
  {
   "cell_type": "markdown",
   "metadata": {},
   "source": [
    "если выбранный нами уровень значимости меньше P-значения, полученного в результате теста, то гипотезу можно принять. В нашем случае мы ее принимаем"
   ]
  },
  {
   "cell_type": "markdown",
   "metadata": {},
   "source": [
    "__Задача 3__\n",
    "\n",
    "Дана выборка диаметров подшипников из примера 1 с занятия 5:\n",
    "```\n",
    "samples = [0.6603, 0.9466, 0.5968, 1.3792, 1.5481, 0.7515, 1.0681, 1.1134,\n",
    "           1.2088, 1.701 , 1.0282, 1.3579, 1.0191, 1.1784, 1.1168, 1.1372,\n",
    "           0.7273, 1.3958, 0.8665, 1.5112, 1.161 , 1.0232, 1.0865, 1.02  ]\n",
    "```\n",
    "Предполагая, что диаметры подшипников распределены нормально, проверьте гипотезу о том, что дисперсия случайной величины равна `0.0625` при уровне значимости `alpha = 0.05`. Что для этого нужно знать:\n",
    "1. Альтернативная гипотеза двухсторонняя.\n",
    "2. Статистика для теста: `H = (n - 1) * sample_variance / variance`, где `n` - число элементов в выборке, `sample_variance` - несмещённая оценка дисперсии, `variance` - утверждаемая нулевой гипотезой дисперсия.\n",
    "3. Эта статистика в предположении верности нулевой гипотезы имеет распределение хи-квадрат с параметром `df = n - 1`. Её квантили можно найти с помощью функции `scipy.stats.chi2.ppf`.\n"
   ]
  },
  {
   "cell_type": "markdown",
   "metadata": {},
   "source": [
    "Проверяем гипотезу о том, что дисперсия равна ${\\sigma^2} = 0.0625$. Возьмём для рассмотрения стастистику:\n",
    "\n",
    "$H = (n - 1) \\cdot \\dfrac{\\sigma^2x}{\\sigma^2}$"
   ]
  },
  {
   "cell_type": "markdown",
   "metadata": {},
   "source": [
    "В предположении верности гипотезы $H0$ данная статистика имеет распределение $X^2$ с параметром $df = n - 1$"
   ]
  },
  {
   "cell_type": "code",
   "execution_count": 6,
   "metadata": {},
   "outputs": [],
   "source": [
    "samples = np.array([0.6603, 0.9466, 0.5968, 1.3792, 1.5481, 0.7515, 1.0681, 1.1134,\n",
    "           1.2088, 1.701 , 1.0282, 1.3579, 1.0191, 1.1784, 1.1168, 1.1372,\n",
    "           0.7273, 1.3958, 0.8665, 1.5112, 1.161 , 1.0232, 1.0865, 1.02  ])"
   ]
  },
  {
   "cell_type": "code",
   "execution_count": 7,
   "metadata": {},
   "outputs": [
    {
     "name": "stdout",
     "output_type": "stream",
     "text": [
      "24 0.07804495041666669\n"
     ]
    }
   ],
   "source": [
    "n = samples.shape[0]\n",
    "sample_variance = samples.var(ddof = 1)\n",
    "\n",
    "print(n, sample_variance)"
   ]
  },
  {
   "cell_type": "markdown",
   "metadata": {},
   "source": [
    "Найдем границы критической области для уровня значимости $\\alpha = 0.05$:"
   ]
  },
  {
   "cell_type": "code",
   "execution_count": 8,
   "metadata": {},
   "outputs": [
    {
     "name": "stdout",
     "output_type": "stream",
     "text": [
      "11.688551922452438 38.0756272503558\n"
     ]
    }
   ],
   "source": [
    "alpha = 0.05\n",
    "\n",
    "t1 = stats.chi2.ppf(alpha / 2, df = n - 1)\n",
    "t2 = stats.chi2.ppf(1 - alpha / 2, df = n - 1)\n",
    "\n",
    "print(t1, t2)"
   ]
  },
  {
   "cell_type": "markdown",
   "metadata": {},
   "source": [
    "Найденная критическая область:\n",
    "    \n",
    "  $$\\Omega_\\alpha = (-\\infty, 11.68) \\cup (38.07, \\infty)$$"
   ]
  },
  {
   "cell_type": "code",
   "execution_count": 9,
   "metadata": {},
   "outputs": [],
   "source": [
    "from matplotlib import pyplot as plt \n",
    "plt.style.use('seaborn-whitegrid')"
   ]
  },
  {
   "cell_type": "code",
   "execution_count": 10,
   "metadata": {},
   "outputs": [
    {
     "data": {
      "text/plain": [
       "<matplotlib.collections.PolyCollection at 0x862ef48>"
      ]
     },
     "execution_count": 10,
     "metadata": {},
     "output_type": "execute_result"
    },
    {
     "data": {
      "image/png": "[encoded data removed]",
      "text/plain": [
       "<Figure size 432x288 with 1 Axes>"
      ]
     },
     "metadata": {},
     "output_type": "display_data"
    }
   ],
   "source": [
    "ox = np.linspace(0, 70, 500)\n",
    "oy = stats.chi2.pdf(ox, df = n - 1)\n",
    "\n",
    "ox_left = np.linspace(0, t1, 100)\n",
    "oy_left = stats.chi2.pdf(ox_left, df = n - 1)\n",
    "\n",
    "ox_right = np.linspace(t2, 70, 100)\n",
    "oy_right = stats.chi2.pdf(ox_right, df = n - 1)\n",
    "\n",
    "plt.plot(ox, oy)\n",
    "plt.fill_between(ox_left, oy_left, alpha = 0.5, color = 'C0')\n",
    "plt.fill_between(ox_right, oy_right, alpha = 0.5, color = 'C0')"
   ]
  },
  {
   "cell_type": "markdown",
   "metadata": {},
   "source": [
    "Находим значение статистики и проводит тест:"
   ]
  },
  {
   "cell_type": "code",
   "execution_count": 11,
   "metadata": {},
   "outputs": [
    {
     "name": "stdout",
     "output_type": "stream",
     "text": [
      "28.720541753333343\n"
     ]
    }
   ],
   "source": [
    "variance = 0.0625\n",
    "\n",
    "H = (n - 1) * sample_variance / variance\n",
    "print(H)"
   ]
  },
  {
   "cell_type": "markdown",
   "metadata": {},
   "source": [
    "28.72 не попадает в критическую область, следовательно, гипотезу принимаем "
   ]
  }
 ],
 "metadata": {
  "kernelspec": {
   "display_name": "Python 3",
   "language": "python",
   "name": "python3"
  },
  "language_info": {
   "codemirror_mode": {
    "name": "ipython",
    "version": 3
   },
   "file_extension": ".py",
   "mimetype": "text/x-python",
   "name": "python",
   "nbconvert_exporter": "python",
   "pygments_lexer": "ipython3",
   "version": "3.7.6"
  }
 },
 "nbformat": 4,
 "nbformat_minor": 4
}
