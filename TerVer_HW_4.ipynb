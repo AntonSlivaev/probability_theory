{
 "cells": [
  {
   "cell_type": "markdown",
   "metadata": {},
   "source": [
    "__Задача 1__\n",
    "\n",
    "Коробки с шоколадом упаковываются автоматически. Их средняя масса равна 1.06 кг. Известно, что 5% коробок имеют массу, меньшую 1 кг. Найдите: а) среднее квадратическое отклонение массы коробки, б) процент коробок, имеющих массу больше 1.1 кг.\n",
    "\n",
    "_Подсказка_. 1. Можно считать, что распределение массы коробки нормальное. 2. Найдите такое значение `scale`, для которого значение `cdf(x=1, loc=1.06, scale=scale)` близко к 0.05. Точности 0.0001 будет достаточно."
   ]
  },
  {
   "cell_type": "markdown",
   "metadata": {},
   "source": [
    "Пусть X - нормально распределенная случайная величина, равная массе коробки с конфетами, тогда a = 1,06 (мат ожидание), σ (среднее квадратичное отклонение)"
   ]
  },
  {
   "cell_type": "markdown",
   "metadata": {},
   "source": [
    "Нужно найти scale, чтобы было верно одно из условий: (оно должно отклоняться от 0.05 не больше, чем на 0.0001)"
   ]
  },
  {
   "cell_type": "markdown",
   "metadata": {},
   "source": [
    "* cdf(x = 1, loc = 1.06, scale = scale) < 0.05 - 0.0001"
   ]
  },
  {
   "cell_type": "markdown",
   "metadata": {},
   "source": [
    "* или cdf(x = 1, loc = 1.06, scale = scale) > 0.05 + 0.0001"
   ]
  },
  {
   "cell_type": "code",
   "execution_count": 1,
   "metadata": {},
   "outputs": [],
   "source": [
    "import numpy as np\n",
    "from scipy import stats"
   ]
  },
  {
   "cell_type": "code",
   "execution_count": 2,
   "metadata": {},
   "outputs": [],
   "source": [
    "loc = 1.06"
   ]
  },
  {
   "cell_type": "code",
   "execution_count": 22,
   "metadata": {},
   "outputs": [
    {
     "name": "stdout",
     "output_type": "stream",
     "text": [
      "cdf \tscale\n",
      "0.4522 \t 0.5\n",
      "0.4052 \t 0.25\n",
      "0.3156 \t 0.125\n",
      "0.1685 \t 0.0625\n",
      "0.0274 \t 0.0312\n",
      "0.1003 \t 0.0469\n",
      "0.0623 \t 0.0391\n",
      "0.0439 \t 0.0352\n",
      "0.053 \t 0.0371\n",
      "0.0484 \t 0.0361\n",
      "0.0507 \t 0.0366\n",
      "0.0495 \t 0.0364\n",
      "0.0501 \t 0.0365\n",
      "0.0498 \t 0.0364\n",
      "0.05 \t 0.0365\n"
     ]
    },
    {
     "data": {
      "text/plain": [
       "0.036468505859375"
      ]
     },
     "execution_count": 22,
     "metadata": {},
     "output_type": "execute_result"
    }
   ],
   "source": [
    "start = 0\n",
    "end = 1\n",
    "\n",
    "target = 0.05\n",
    "err = 0.0001\n",
    "\n",
    "print('cdf \\tscale')\n",
    "\n",
    "\n",
    "while True:\n",
    "    scale = (start + end)/2\n",
    "    cdf = stats.norm.cdf(1, loc=loc, scale=scale)\n",
    "    \n",
    "    print(round(cdf, 4), '\\t', round(scale, 4))\n",
    "    \n",
    "    if cdf <= target - err:\n",
    "        start = scale\n",
    "    elif cdf >= target + err:\n",
    "        end = scale\n",
    "    else:\n",
    "        break\n",
    "        \n",
    "scale        "
   ]
  },
  {
   "cell_type": "markdown",
   "metadata": {},
   "source": [
    "Проверка:"
   ]
  },
  {
   "cell_type": "code",
   "execution_count": 4,
   "metadata": {},
   "outputs": [
    {
     "data": {
      "text/plain": [
       "0.049958594078015874"
      ]
     },
     "execution_count": 4,
     "metadata": {},
     "output_type": "execute_result"
    }
   ],
   "source": [
    "stats.norm.cdf(1, loc=loc, scale=scale )"
   ]
  },
  {
   "cell_type": "markdown",
   "metadata": {},
   "source": [
    "Теперь можно найти вероятность того, что коробка будет иметьмассу более 1.1 кг. Воспользуемся функцией распределения:\n",
    " p = 1 - F(1.1)"
   ]
  },
  {
   "cell_type": "code",
   "execution_count": 5,
   "metadata": {},
   "outputs": [
    {
     "data": {
      "text/plain": [
       "0.1363563656878326"
      ]
     },
     "execution_count": 5,
     "metadata": {},
     "output_type": "execute_result"
    }
   ],
   "source": [
    "1 - stats.norm.cdf(1.1, loc = loc, scale = scale)"
   ]
  },
  {
   "cell_type": "markdown",
   "metadata": {},
   "source": [
    "Вероятность 13.6 %"
   ]
  },
  {
   "cell_type": "markdown",
   "metadata": {},
   "source": [
    "__Задача 2__\n",
    "\n",
    "Коробка содержит 30 конфет. Известно, что масса каждой конфеты распределена равномерно в промежутке от 12 до 14 граммов. Используя центральную предельную теорему, найти вероятность, что масса всей коробки будет: а) меньше 390 граммов, б) больше 395 граммов, в) от 380 до 400 граммов.\n",
    "\n",
    "Массой самой коробки можно пренебречь.\n",
    "\n",
    "_Подсказка_. Для равномерного распределения в промежутке `[a, b]`:\n",
    "1. мат. ожидание равно `(a + b) / 2`,\n",
    "2. дисперсия равна `(b - a)^2 / 12`."
   ]
  },
  {
   "cell_type": "markdown",
   "metadata": {},
   "source": [
    "С помощью центральной предельной теоремы можно найти распределение массы всей коробки(30 конфет). Тогда мат ожидание и дисперсия массы каждой конфеты:\n"
   ]
  },
  {
   "cell_type": "markdown",
   "metadata": {},
   "source": [
    "$$ m = \\dfrac{{a} + b}{{2}} = 13,  b = \\dfrac{({b} -a)^2}{12} = 10$$"
   ]
  },
  {
   "cell_type": "markdown",
   "metadata": {},
   "source": [
    "По центральной теореме масса всей коробки имеет нормальное распределение со следующими параметрами:\n",
    "$$\\mu = 30 \\cdot m = 390,    \\sigma^2= 30 \\cdot d = 10 $$"
   ]
  },
  {
   "cell_type": "markdown",
   "metadata": {},
   "source": [
    "Теперь мы можем найти искомые вероятности:"
   ]
  },
  {
   "cell_type": "code",
   "execution_count": 7,
   "metadata": {},
   "outputs": [],
   "source": [
    "mu = 390\n",
    "sigma = np.sqrt(10)\n",
    "\n",
    "norm = stats.norm(loc= mu, scale = sigma)"
   ]
  },
  {
   "cell_type": "markdown",
   "metadata": {},
   "source": [
    "Вероятность, что коробка будет весить меньше 390 граммов:"
   ]
  },
  {
   "cell_type": "code",
   "execution_count": 8,
   "metadata": {},
   "outputs": [
    {
     "data": {
      "text/plain": [
       "0.5"
      ]
     },
     "execution_count": 8,
     "metadata": {},
     "output_type": "execute_result"
    }
   ],
   "source": [
    "norm.cdf(390)"
   ]
  },
  {
   "cell_type": "markdown",
   "metadata": {},
   "source": [
    "Вероятность, что коробка будет весить больше 395 грамм:"
   ]
  },
  {
   "cell_type": "code",
   "execution_count": 9,
   "metadata": {},
   "outputs": [
    {
     "data": {
      "text/plain": [
       "0.056923149003329065"
      ]
     },
     "execution_count": 9,
     "metadata": {},
     "output_type": "execute_result"
    }
   ],
   "source": [
    "1 - norm.cdf(395)"
   ]
  },
  {
   "cell_type": "markdown",
   "metadata": {},
   "source": [
    "Вероятность, что масса коробки будет в диапазоне от 380 до 400 граммов:\n"
   ]
  },
  {
   "cell_type": "code",
   "execution_count": 19,
   "metadata": {},
   "outputs": [
    {
     "data": {
      "text/plain": [
       "0.9984345977419975"
      ]
     },
     "execution_count": 19,
     "metadata": {},
     "output_type": "execute_result"
    }
   ],
   "source": [
    "norm.cdf(400) - norm.cdf(380)"
   ]
  },
  {
   "cell_type": "code",
   "execution_count": null,
   "metadata": {},
   "outputs": [],
   "source": []
  }
 ],
 "metadata": {
  "kernelspec": {
   "display_name": "Python 3",
   "language": "python",
   "name": "python3"
  },
  "language_info": {
   "codemirror_mode": {
    "name": "ipython",
    "version": 3
   },
   "file_extension": ".py",
   "mimetype": "text/x-python",
   "name": "python",
   "nbconvert_exporter": "python",
   "pygments_lexer": "ipython3",
   "version": "3.7.6"
  }
 },
 "nbformat": 4,
 "nbformat_minor": 4
}
